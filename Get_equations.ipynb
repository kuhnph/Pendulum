#inifinte pendulum
import sympy as sp
from sympy import cos, sin
from sympy.physics.mechanics import dynamicsymbols
import dill
dill.settings['recurse'] = True


ms = [.1, .1, .1, .1, .1]
Ls = [.5, .5, .5, .5, .5]
g = 9.81

thetas = [dynamicsymbols(f"theta{i}") for i in range(len(Ls))]
thetaDots = [dynamicsymbols(f"theta{i}", 1) for i in range(len(Ls))]
thetaDDots = [dynamicsymbols(f"theta{i}", 2) for i in range(len(Ls))]
for i, L in enumerate(Ls):
    theta = thetas[i]

    if i == 0:
        x = L*sin(theta)
        y = -L*cos(theta)
        pos = [x,y]
    else:
        pos.append(x+L*sin(theta))
        pos.append(y-L*cos(theta))
vel = [sp.diff(pos[i], "t") for i in range(len(pos))]

j=0
for i in range(0, len(vel)-1, 2):
    if i == 0:
        KE = ms[j]*(vel[i]**2+vel[i+1]**2)/2
        PE = ms[j]*g*pos[i+1]
    else:
        KE = KE + ms[j]*(vel[i]**2+vel[i+1]**2)/2
        PE = PE+ms[j]*g*pos[i+1]
    j+=1
L = KE-PE
LEs = [sp.diff(sp.diff(L,thetaDots[i]), 't')-sp.diff(L,thetas[i]) for i in range(len(Ls))]
print('solving')
sol = sp.solve(LEs, thetaDDots)
print('simplifying')
thetaDDots_F = [sp.lambdify(thetas+thetaDots, sol[thetaDDots[i]].simplify()) for i in range(len(Ls))]
for i in range(len(Ls)):
    dill.dump(thetaDDots_F[i], open(f"thetaddot{i}_F", "wb"))
